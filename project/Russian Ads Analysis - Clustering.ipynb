{
 "cells": [
  {
   "cell_type": "markdown",
   "metadata": {},
   "source": [
    "# 5. Clustering and Manifold Learning (Niall)"
   ]
  },
  {
   "cell_type": "markdown",
   "metadata": {},
   "source": [
    "### Importing modules, data"
   ]
  },
  {
   "cell_type": "code",
   "execution_count": 1,
   "metadata": {},
   "outputs": [],
   "source": [
    "import pandas as pd\n",
    "import matplotlib.pyplot as plt\n",
    "import numpy as np\n",
    "import seaborn as sns\n",
    "\n",
    "from sklearn import manifold #needed for multidimensional scaling (MDS) and t-SNE\n",
    "from sklearn import cluster #needed for k-Means clustering\n",
    "from sklearn import preprocessing #needed for scaling attributes to the nterval [0,1]\n",
    "from sklearn.cluster import KMeans\n",
    "from sklearn.metrics import silhouette_score\n",
    "\n",
    "pd.set_option('display.max_columns', None)"
   ]
  },
  {
   "cell_type": "markdown",
   "metadata": {},
   "source": [
    "#### Scatterplot function\n",
    "From lab 6"
   ]
  },
  {
   "cell_type": "code",
   "execution_count": 2,
   "metadata": {},
   "outputs": [],
   "source": [
    "colors = np.array(['orange', 'blue', 'lime', 'blue', 'khaki', 'pink', 'green', 'purple'])\n",
    "\n",
    "# points - a 2D array of (x,y) coordinates of data points\n",
    "# labels - an array of numeric labels in the interval [0..k-1], one for each point\n",
    "# centers - a 2D array of (x, y) coordinates of cluster centers\n",
    "# title - title of the plot\n",
    "\n",
    "def clustering_scatterplot(points, labels, centers, title):\n",
    "    # plot the examples, i.e. the data points\n",
    "    \n",
    "    n_clusters = np.unique(labels).size\n",
    "    for i in range(n_clusters):\n",
    "        h = plt.scatter(points[labels==i,0],\n",
    "                        points[labels==i,1], \n",
    "                        c=colors[i%colors.size],\n",
    "                        label = 'cluster '+str(i))\n",
    "\n",
    "    # plot the centers of the clusters\n",
    "    if centers is not None:\n",
    "        plt.scatter(centers[:,0], centers[:,1], c='r', marker='*', s=500)\n",
    "\n",
    "    _ = plt.title(title)\n",
    "    _ = plt.legend()\n",
    "    _ = plt.xlabel('x')\n",
    "    _ = plt.ylabel('y')"
   ]
  },
  {
   "cell_type": "code",
   "execution_count": 3,
   "metadata": {},
   "outputs": [],
   "source": [
    "dfCluster = pd.read_json(\"./russian_ads.json\")"
   ]
  },
  {
   "cell_type": "markdown",
   "metadata": {},
   "source": [
    "### (Data Prep) Converting lists into tuples, numbers"
   ]
  },
  {
   "cell_type": "code",
   "execution_count": 4,
   "metadata": {},
   "outputs": [
    {
     "data": {
      "text/html": [
       "<div>\n",
       "<style scoped>\n",
       "    .dataframe tbody tr th:only-of-type {\n",
       "        vertical-align: middle;\n",
       "    }\n",
       "\n",
       "    .dataframe tbody tr th {\n",
       "        vertical-align: top;\n",
       "    }\n",
       "\n",
       "    .dataframe thead th {\n",
       "        text-align: right;\n",
       "    }\n",
       "</style>\n",
       "<table border=\"1\" class=\"dataframe\">\n",
       "  <thead>\n",
       "    <tr style=\"text-align: right;\">\n",
       "      <th></th>\n",
       "      <th>language_categories</th>\n",
       "      <th>placement_categories</th>\n",
       "      <th>interests_categories</th>\n",
       "      <th>location_categories</th>\n",
       "      <th>ad_id</th>\n",
       "      <th>ad_copy</th>\n",
       "      <th>ad_landing_page</th>\n",
       "      <th>ad_targeting_location</th>\n",
       "      <th>age_lower</th>\n",
       "      <th>age_upper</th>\n",
       "      <th>age</th>\n",
       "      <th>placements</th>\n",
       "      <th>ad_impressions</th>\n",
       "      <th>ad_clicks</th>\n",
       "      <th>ad_spend_rub</th>\n",
       "      <th>ad_creation_date</th>\n",
       "      <th>month</th>\n",
       "      <th>year</th>\n",
       "      <th>day</th>\n",
       "      <th>ad_end_date</th>\n",
       "      <th>extra_data</th>\n",
       "      <th>pdf_filepath</th>\n",
       "      <th>image_filepath</th>\n",
       "      <th>interest_expansion</th>\n",
       "      <th>excluded_connections</th>\n",
       "      <th>language</th>\n",
       "      <th>ad_spend_usd</th>\n",
       "      <th>efficiency_impressions</th>\n",
       "      <th>efficiency_clicks</th>\n",
       "      <th>conversion_rate</th>\n",
       "      <th>interests_categories_regex</th>\n",
       "      <th>location_categories_regex</th>\n",
       "      <th>date_order_index</th>\n",
       "    </tr>\n",
       "  </thead>\n",
       "  <tbody>\n",
       "    <tr>\n",
       "      <td>0</td>\n",
       "      <td>(Not Specified,)</td>\n",
       "      <td>(Facebook,)</td>\n",
       "      <td>()</td>\n",
       "      <td>(Midwest, Atlantic)</td>\n",
       "      <td>331.0</td>\n",
       "      <td>\"Free Figure's Black Power Rally at VCU:\"</td>\n",
       "      <td>https://www.facebook.com/Black-Matters-1579673...</td>\n",
       "      <td>United States: Baltimore Maryland: Ferguson, S...</td>\n",
       "      <td>18.0</td>\n",
       "      <td>999.0</td>\n",
       "      <td>18-65+</td>\n",
       "      <td>News Feed on desktop computers or News Feed on...</td>\n",
       "      <td>764.0</td>\n",
       "      <td>43</td>\n",
       "      <td>90.86</td>\n",
       "      <td>06/15/2015</td>\n",
       "      <td>6</td>\n",
       "      <td>2015</td>\n",
       "      <td>15</td>\n",
       "      <td>06/16/2015</td>\n",
       "      <td>Completed at the Direction of Ranking Memberof...</td>\n",
       "      <td>2015-06/P10002117.pdf</td>\n",
       "      <td>missing_ad.png</td>\n",
       "      <td>None</td>\n",
       "      <td>None</td>\n",
       "      <td>None</td>\n",
       "      <td>1.66</td>\n",
       "      <td>460.24</td>\n",
       "      <td>25.9</td>\n",
       "      <td>0.06</td>\n",
       "      <td></td>\n",
       "      <td>Midwest_Atlantic</td>\n",
       "      <td>41</td>\n",
       "    </tr>\n",
       "  </tbody>\n",
       "</table>\n",
       "</div>"
      ],
      "text/plain": [
       "  language_categories placement_categories interests_categories  \\\n",
       "0    (Not Specified,)          (Facebook,)                   ()   \n",
       "\n",
       "   location_categories  ad_id                                    ad_copy  \\\n",
       "0  (Midwest, Atlantic)  331.0  \"Free Figure's Black Power Rally at VCU:\"   \n",
       "\n",
       "                                     ad_landing_page  \\\n",
       "0  https://www.facebook.com/Black-Matters-1579673...   \n",
       "\n",
       "                               ad_targeting_location  age_lower  age_upper  \\\n",
       "0  United States: Baltimore Maryland: Ferguson, S...       18.0      999.0   \n",
       "\n",
       "      age                                         placements  ad_impressions  \\\n",
       "0  18-65+  News Feed on desktop computers or News Feed on...           764.0   \n",
       "\n",
       "   ad_clicks  ad_spend_rub ad_creation_date  month  year  day ad_end_date  \\\n",
       "0         43         90.86       06/15/2015      6  2015   15  06/16/2015   \n",
       "\n",
       "                                          extra_data           pdf_filepath  \\\n",
       "0  Completed at the Direction of Ranking Memberof...  2015-06/P10002117.pdf   \n",
       "\n",
       "   image_filepath interest_expansion excluded_connections language  \\\n",
       "0  missing_ad.png               None                 None     None   \n",
       "\n",
       "   ad_spend_usd  efficiency_impressions  efficiency_clicks  conversion_rate  \\\n",
       "0          1.66                  460.24               25.9             0.06   \n",
       "\n",
       "  interests_categories_regex location_categories_regex  date_order_index  \n",
       "0                                     Midwest_Atlantic                41  "
      ]
     },
     "execution_count": 4,
     "metadata": {},
     "output_type": "execute_result"
    }
   ],
   "source": [
    "listCols = ['language_categories', 'placement_categories', 'interests_categories', 'location_categories']\n",
    "dateCols = ['month', 'year']\n",
    "numCols = ['age_lower', 'age_upper', 'ad_impressions', 'ad_clicks', 'ad_spend_usd', 'month', 'year']\n",
    "\n",
    "for col in listCols:\n",
    "    dfCluster[col] = dfCluster[col].transform(tuple)\n",
    "\n",
    "for col in dateCols:\n",
    "    dfCluster[col] = dfCluster[col].apply(''.join).astype(int)\n",
    "    \n",
    "for col in numCols:\n",
    "    dfCluster[col] = pd.to_numeric(dfCluster[col], errors='coerce')\n",
    "    \n",
    "dfCluster.head(1)"
   ]
  },
  {
   "cell_type": "markdown",
   "metadata": {},
   "source": [
    "### Making a dataset out of numeric fields"
   ]
  },
  {
   "cell_type": "code",
   "execution_count": 5,
   "metadata": {},
   "outputs": [
    {
     "name": "stderr",
     "output_type": "stream",
     "text": [
      "/usr/local/anaconda3/lib/python3.7/site-packages/ipykernel_launcher.py:2: SettingWithCopyWarning: \n",
      "A value is trying to be set on a copy of a slice from a DataFrame.\n",
      "Try using .loc[row_indexer,col_indexer] = value instead\n",
      "\n",
      "See the caveats in the documentation: http://pandas.pydata.org/pandas-docs/stable/user_guide/indexing.html#returning-a-view-versus-a-copy\n",
      "  \n"
     ]
    }
   ],
   "source": [
    "dfNum = dfCluster[['age_lower', 'age_upper', 'ad_impressions', 'ad_clicks', 'ad_spend_usd', 'month', 'year']]\n",
    "dfNum['ad_id'] = range(1, len(dfNum) + 1)\n",
    "\n",
    "dfNum = dfNum.dropna()\n",
    "num_data = np.array(dfNum.values, dtype=float)\n",
    "\n",
    "# cluster_data = np.array(dfNum.values, dtype=float)\n",
    "# print('(number of examples, number of attributes): ', cluster_data.shape)"
   ]
  },
  {
   "cell_type": "markdown",
   "metadata": {},
   "source": [
    "### Encoding interesting categorical fields into numbers"
   ]
  },
  {
   "cell_type": "code",
   "execution_count": 6,
   "metadata": {},
   "outputs": [
    {
     "data": {
      "text/html": [
       "<div>\n",
       "<style scoped>\n",
       "    .dataframe tbody tr th:only-of-type {\n",
       "        vertical-align: middle;\n",
       "    }\n",
       "\n",
       "    .dataframe tbody tr th {\n",
       "        vertical-align: top;\n",
       "    }\n",
       "\n",
       "    .dataframe thead th {\n",
       "        text-align: right;\n",
       "    }\n",
       "</style>\n",
       "<table border=\"1\" class=\"dataframe\">\n",
       "  <thead>\n",
       "    <tr style=\"text-align: right;\">\n",
       "      <th></th>\n",
       "      <th>Facebook</th>\n",
       "      <th>Instagram</th>\n",
       "      <th>Third Party Apps</th>\n",
       "      <th>Video</th>\n",
       "      <th>Above Age 30</th>\n",
       "      <th>African American</th>\n",
       "      <th>American South</th>\n",
       "      <th>Anti-Immigrant</th>\n",
       "      <th>Army</th>\n",
       "      <th>Below Age 30</th>\n",
       "      <th>Christianity</th>\n",
       "      <th>Conservative</th>\n",
       "      <th>Geographic</th>\n",
       "      <th>Gun Rights</th>\n",
       "      <th>Islam</th>\n",
       "      <th>LGBTQ</th>\n",
       "      <th>Latinx</th>\n",
       "      <th>Memes</th>\n",
       "      <th>Memes and Products</th>\n",
       "      <th>Native American</th>\n",
       "      <th>Patriotism</th>\n",
       "      <th>Police</th>\n",
       "      <th>Prison</th>\n",
       "      <th>Products</th>\n",
       "      <th>Progressive</th>\n",
       "      <th>Self-Defense</th>\n",
       "      <th>Texas</th>\n",
       "      <th>Unknown</th>\n",
       "      <th>Atlantic</th>\n",
       "      <th>Midwest</th>\n",
       "      <th>Non-US</th>\n",
       "      <th>Northeast</th>\n",
       "      <th>Pacific</th>\n",
       "      <th>Southwest</th>\n",
       "      <th>The South</th>\n",
       "      <th>ad_id</th>\n",
       "    </tr>\n",
       "  </thead>\n",
       "  <tbody>\n",
       "    <tr>\n",
       "      <td>0</td>\n",
       "      <td>1</td>\n",
       "      <td>0</td>\n",
       "      <td>0</td>\n",
       "      <td>0</td>\n",
       "      <td>0</td>\n",
       "      <td>0</td>\n",
       "      <td>0</td>\n",
       "      <td>0</td>\n",
       "      <td>0</td>\n",
       "      <td>0</td>\n",
       "      <td>0</td>\n",
       "      <td>0</td>\n",
       "      <td>0</td>\n",
       "      <td>0</td>\n",
       "      <td>0</td>\n",
       "      <td>0</td>\n",
       "      <td>0</td>\n",
       "      <td>0</td>\n",
       "      <td>0</td>\n",
       "      <td>0</td>\n",
       "      <td>0</td>\n",
       "      <td>0</td>\n",
       "      <td>0</td>\n",
       "      <td>0</td>\n",
       "      <td>0</td>\n",
       "      <td>0</td>\n",
       "      <td>0</td>\n",
       "      <td>0</td>\n",
       "      <td>1</td>\n",
       "      <td>1</td>\n",
       "      <td>0</td>\n",
       "      <td>0</td>\n",
       "      <td>0</td>\n",
       "      <td>0</td>\n",
       "      <td>0</td>\n",
       "      <td>1</td>\n",
       "    </tr>\n",
       "  </tbody>\n",
       "</table>\n",
       "</div>"
      ],
      "text/plain": [
       "   Facebook  Instagram  Third Party Apps  Video  Above Age 30  \\\n",
       "0         1          0                 0      0             0   \n",
       "\n",
       "   African American  American South  Anti-Immigrant  Army  Below Age 30  \\\n",
       "0                 0               0               0     0             0   \n",
       "\n",
       "   Christianity  Conservative  Geographic  Gun Rights  Islam  LGBTQ  Latinx  \\\n",
       "0             0             0           0           0      0      0       0   \n",
       "\n",
       "   Memes  Memes and Products  Native American  Patriotism  Police  Prison  \\\n",
       "0      0                   0                0           0       0       0   \n",
       "\n",
       "   Products  Progressive  Self-Defense  Texas  Unknown  Atlantic  Midwest  \\\n",
       "0         0            0             0      0        0         1        1   \n",
       "\n",
       "   Non-US  Northeast  Pacific  Southwest  The South  ad_id  \n",
       "0       0          0        0          0          0      1  "
      ]
     },
     "execution_count": 6,
     "metadata": {},
     "output_type": "execute_result"
    }
   ],
   "source": [
    "from sklearn.preprocessing import MultiLabelBinarizer\n",
    "\n",
    "cols = ['placement_categories', 'interests_categories', 'location_categories']\n",
    "dfEncoded = dfCluster[cols]\n",
    "for col in cols:\n",
    "    mlb = MultiLabelBinarizer()\n",
    "    dfEncoded = dfEncoded.join(pd.DataFrame(mlb.fit_transform(dfEncoded.pop(col)),\n",
    "                                            columns=mlb.classes_,\n",
    "                                            index=dfEncoded.index))\n",
    "\n",
    "dfEncoded['ad_id'] = range(1, len(dfEncoded) + 1)\n",
    "dfEncoded.head(1)"
   ]
  },
  {
   "cell_type": "code",
   "execution_count": 7,
   "metadata": {},
   "outputs": [
    {
     "data": {
      "text/html": [
       "<div>\n",
       "<style scoped>\n",
       "    .dataframe tbody tr th:only-of-type {\n",
       "        vertical-align: middle;\n",
       "    }\n",
       "\n",
       "    .dataframe tbody tr th {\n",
       "        vertical-align: top;\n",
       "    }\n",
       "\n",
       "    .dataframe thead th {\n",
       "        text-align: right;\n",
       "    }\n",
       "</style>\n",
       "<table border=\"1\" class=\"dataframe\">\n",
       "  <thead>\n",
       "    <tr style=\"text-align: right;\">\n",
       "      <th></th>\n",
       "      <th>age_lower</th>\n",
       "      <th>age_upper</th>\n",
       "      <th>ad_impressions</th>\n",
       "      <th>ad_clicks</th>\n",
       "      <th>ad_spend_usd</th>\n",
       "      <th>month</th>\n",
       "      <th>year</th>\n",
       "      <th>Facebook</th>\n",
       "      <th>Instagram</th>\n",
       "      <th>Third Party Apps</th>\n",
       "      <th>Video</th>\n",
       "      <th>Above Age 30</th>\n",
       "      <th>African American</th>\n",
       "      <th>American South</th>\n",
       "      <th>Anti-Immigrant</th>\n",
       "      <th>Army</th>\n",
       "      <th>Below Age 30</th>\n",
       "      <th>Christianity</th>\n",
       "      <th>Conservative</th>\n",
       "      <th>Geographic</th>\n",
       "      <th>Gun Rights</th>\n",
       "      <th>Islam</th>\n",
       "      <th>LGBTQ</th>\n",
       "      <th>Latinx</th>\n",
       "      <th>Memes</th>\n",
       "      <th>Memes and Products</th>\n",
       "      <th>Native American</th>\n",
       "      <th>Patriotism</th>\n",
       "      <th>Police</th>\n",
       "      <th>Prison</th>\n",
       "      <th>Products</th>\n",
       "      <th>Progressive</th>\n",
       "      <th>Self-Defense</th>\n",
       "      <th>Texas</th>\n",
       "      <th>Unknown</th>\n",
       "      <th>Atlantic</th>\n",
       "      <th>Midwest</th>\n",
       "      <th>Non-US</th>\n",
       "      <th>Northeast</th>\n",
       "      <th>Pacific</th>\n",
       "      <th>Southwest</th>\n",
       "      <th>The South</th>\n",
       "    </tr>\n",
       "  </thead>\n",
       "  <tbody>\n",
       "    <tr>\n",
       "      <td>0</td>\n",
       "      <td>18.0</td>\n",
       "      <td>999.0</td>\n",
       "      <td>764.0</td>\n",
       "      <td>43</td>\n",
       "      <td>1.66</td>\n",
       "      <td>6</td>\n",
       "      <td>2015</td>\n",
       "      <td>1</td>\n",
       "      <td>0</td>\n",
       "      <td>0</td>\n",
       "      <td>0</td>\n",
       "      <td>0</td>\n",
       "      <td>0</td>\n",
       "      <td>0</td>\n",
       "      <td>0</td>\n",
       "      <td>0</td>\n",
       "      <td>0</td>\n",
       "      <td>0</td>\n",
       "      <td>0</td>\n",
       "      <td>0</td>\n",
       "      <td>0</td>\n",
       "      <td>0</td>\n",
       "      <td>0</td>\n",
       "      <td>0</td>\n",
       "      <td>0</td>\n",
       "      <td>0</td>\n",
       "      <td>0</td>\n",
       "      <td>0</td>\n",
       "      <td>0</td>\n",
       "      <td>0</td>\n",
       "      <td>0</td>\n",
       "      <td>0</td>\n",
       "      <td>0</td>\n",
       "      <td>0</td>\n",
       "      <td>0</td>\n",
       "      <td>1</td>\n",
       "      <td>1</td>\n",
       "      <td>0</td>\n",
       "      <td>0</td>\n",
       "      <td>0</td>\n",
       "      <td>0</td>\n",
       "      <td>0</td>\n",
       "    </tr>\n",
       "  </tbody>\n",
       "</table>\n",
       "</div>"
      ],
      "text/plain": [
       "   age_lower  age_upper  ad_impressions  ad_clicks  ad_spend_usd  month  year  \\\n",
       "0       18.0      999.0           764.0         43          1.66      6  2015   \n",
       "\n",
       "   Facebook  Instagram  Third Party Apps  Video  Above Age 30  \\\n",
       "0         1          0                 0      0             0   \n",
       "\n",
       "   African American  American South  Anti-Immigrant  Army  Below Age 30  \\\n",
       "0                 0               0               0     0             0   \n",
       "\n",
       "   Christianity  Conservative  Geographic  Gun Rights  Islam  LGBTQ  Latinx  \\\n",
       "0             0             0           0           0      0      0       0   \n",
       "\n",
       "   Memes  Memes and Products  Native American  Patriotism  Police  Prison  \\\n",
       "0      0                   0                0           0       0       0   \n",
       "\n",
       "   Products  Progressive  Self-Defense  Texas  Unknown  Atlantic  Midwest  \\\n",
       "0         0            0             0      0        0         1        1   \n",
       "\n",
       "   Non-US  Northeast  Pacific  Southwest  The South  \n",
       "0       0          0        0          0          0  "
      ]
     },
     "execution_count": 7,
     "metadata": {},
     "output_type": "execute_result"
    }
   ],
   "source": [
    "dfNumEncode = pd.merge(dfNum, dfEncoded, on='ad_id', how='inner').dropna()\n",
    "dfNumEncode.drop(['ad_id'], axis=1, inplace=True)\n",
    "dfNumEncode.head(1)"
   ]
  },
  {
   "cell_type": "markdown",
   "metadata": {},
   "source": [
    "### Combining these into a dataframe and array"
   ]
  },
  {
   "cell_type": "code",
   "execution_count": 8,
   "metadata": {},
   "outputs": [
    {
     "name": "stdout",
     "output_type": "stream",
     "text": [
      "(number of examples, number of attributes):  (2726, 42)\n"
     ]
    }
   ],
   "source": [
    "numEncode_data = np.array(dfNumEncode.values, dtype=float)\n",
    "print('(number of examples, number of attributes): ', numEncode_data.shape)"
   ]
  },
  {
   "cell_type": "markdown",
   "metadata": {},
   "source": [
    "### Scaling the data"
   ]
  },
  {
   "cell_type": "code",
   "execution_count": 9,
   "metadata": {},
   "outputs": [],
   "source": [
    "min_max_scaler = preprocessing.MinMaxScaler()\n",
    "numEncode_data = min_max_scaler.fit_transform(numEncode_data)"
   ]
  },
  {
   "cell_type": "markdown",
   "metadata": {},
   "source": [
    "### K-means Clustering"
   ]
  },
  {
   "cell_type": "code",
   "execution_count": 10,
   "metadata": {},
   "outputs": [],
   "source": [
    "k = 3\n",
    "clustered_data_sklearn = cluster.KMeans(n_clusters=k, n_init=10, max_iter=300).fit(numEncode_data)"
   ]
  },
  {
   "cell_type": "markdown",
   "metadata": {},
   "source": [
    "### Best Value of k?"
   ]
  },
  {
   "cell_type": "markdown",
   "metadata": {},
   "source": [
    "#### Elbow Method"
   ]
  },
  {
   "cell_type": "code",
   "execution_count": 11,
   "metadata": {},
   "outputs": [
    {
     "data": {
      "image/png": "[encoded data removed]",
      "text/plain": [
       "<Figure size 432x288 with 1 Axes>"
      ]
     },
     "metadata": {
      "needs_background": "light"
     },
     "output_type": "display_data"
    }
   ],
   "source": [
    "sse = {}\n",
    "for k in range(2, 20):\n",
    "    kmeans = KMeans(n_clusters=k, max_iter=1000).fit(numEncode_data)\n",
    "    #numEncode_data['clusters'] = kmeans.labels_\n",
    "    #print(data[\"clusters\"])\n",
    "    sse[k] = kmeans.inertia_ # Inertia: Sum of distances of samples to their closest cluster center\n",
    "plt.figure()\n",
    "plt.plot(list(sse.keys()), list(sse.values()))\n",
    "plt.xlabel(\"Number of cluster\")\n",
    "plt.ylabel(\"SSE\")\n",
    "plt.show()"
   ]
  },
  {
   "cell_type": "markdown",
   "metadata": {},
   "source": [
    "#### Silhouette Coefficient Method"
   ]
  },
  {
   "cell_type": "code",
   "execution_count": 12,
   "metadata": {},
   "outputs": [
    {
     "name": "stdout",
     "output_type": "stream",
     "text": [
      "For n_clusters=2, The Silhouette Coefficient is 0.18669838525120822\n",
      "For n_clusters=3, The Silhouette Coefficient is 0.18768431601823915\n",
      "For n_clusters=4, The Silhouette Coefficient is 0.2085469226230702\n",
      "For n_clusters=5, The Silhouette Coefficient is 0.24215443353569424\n",
      "For n_clusters=6, The Silhouette Coefficient is 0.24131822649123486\n",
      "For n_clusters=7, The Silhouette Coefficient is 0.277174402672209\n",
      "For n_clusters=8, The Silhouette Coefficient is 0.29234422775766233\n",
      "For n_clusters=9, The Silhouette Coefficient is 0.2746107406096257\n",
      "For n_clusters=10, The Silhouette Coefficient is 0.31756578776966937\n",
      "For n_clusters=11, The Silhouette Coefficient is 0.3223164709058296\n",
      "For n_clusters=12, The Silhouette Coefficient is 0.32473602530533496\n",
      "For n_clusters=13, The Silhouette Coefficient is 0.3459549897136431\n",
      "For n_clusters=14, The Silhouette Coefficient is 0.36502676986002863\n",
      "For n_clusters=15, The Silhouette Coefficient is 0.3658821353050761\n",
      "For n_clusters=16, The Silhouette Coefficient is 0.37134229534873114\n",
      "For n_clusters=17, The Silhouette Coefficient is 0.3907593302981996\n",
      "For n_clusters=18, The Silhouette Coefficient is 0.3969030400445064\n",
      "For n_clusters=19, The Silhouette Coefficient is 0.41386992000751455\n"
     ]
    }
   ],
   "source": [
    "for n_cluster in range(2, 20):\n",
    "    kmeans = KMeans(n_clusters=n_cluster).fit(numEncode_data)\n",
    "    label = kmeans.labels_\n",
    "    sil_coeff = silhouette_score(numEncode_data, label, metric='euclidean')\n",
    "    print(\"For n_clusters={}, The Silhouette Coefficient is {}\".format(n_cluster, sil_coeff))"
   ]
  },
  {
   "cell_type": "markdown",
   "metadata": {},
   "source": [
    "## Manifold Learning"
   ]
  },
  {
   "cell_type": "code",
   "execution_count": 13,
   "metadata": {},
   "outputs": [],
   "source": [
    "# append the cluster centers to the dataset\n",
    "numEncode_data_and_centers = np.r_[numEncode_data, clustered_data_sklearn.cluster_centers_]"
   ]
  },
  {
   "cell_type": "markdown",
   "metadata": {},
   "source": [
    "###  Apply multi-dimensional scaling (MDS) to project both the data and the k-Means cluster centers to a 2D space¶"
   ]
  },
  {
   "cell_type": "code",
   "execution_count": 14,
   "metadata": {},
   "outputs": [
    {
     "name": "stdout",
     "output_type": "stream",
     "text": [
      "transformation complete\n"
     ]
    }
   ],
   "source": [
    "# project both th data and the k-Means cluster centers to a 2D space\n",
    "XYcoordinates = manifold.MDS(n_components=2).fit_transform(numEncode_data_and_centers)\n",
    "print(\"transformation complete\")"
   ]
  },
  {
   "cell_type": "code",
   "execution_count": 15,
   "metadata": {},
   "outputs": [
    {
     "ename": "IndexError",
     "evalue": "boolean index did not match indexed array along dimension 0; dimension is 2710 but corresponding boolean dimension is 2726",
     "output_type": "error",
     "traceback": [
      "\u001b[0;31m---------------------------------------------------------------------------\u001b[0m",
      "\u001b[0;31mIndexError\u001b[0m                                Traceback (most recent call last)",
      "\u001b[0;32m<ipython-input-15-3e1ede038b6e>\u001b[0m in \u001b[0;36m<module>\u001b[0;34m\u001b[0m\n\u001b[1;32m      4\u001b[0m                        \u001b[0mlabels\u001b[0m\u001b[0;34m=\u001b[0m\u001b[0mclustered_data_sklearn\u001b[0m\u001b[0;34m.\u001b[0m\u001b[0mlabels_\u001b[0m\u001b[0;34m,\u001b[0m\u001b[0;34m\u001b[0m\u001b[0;34m\u001b[0m\u001b[0m\n\u001b[1;32m      5\u001b[0m                        \u001b[0mcenters\u001b[0m\u001b[0;34m=\u001b[0m\u001b[0mXYcoordinates\u001b[0m\u001b[0;34m[\u001b[0m\u001b[0;34m-\u001b[0m\u001b[0mk\u001b[0m\u001b[0;34m:\u001b[0m\u001b[0;34m,\u001b[0m\u001b[0;34m:\u001b[0m\u001b[0;34m]\u001b[0m\u001b[0;34m,\u001b[0m\u001b[0;34m\u001b[0m\u001b[0;34m\u001b[0m\u001b[0m\n\u001b[0;32m----> 6\u001b[0;31m                        title='MDS')\n\u001b[0m",
      "\u001b[0;32m<ipython-input-2-873f5d6946da>\u001b[0m in \u001b[0;36mclustering_scatterplot\u001b[0;34m(points, labels, centers, title)\u001b[0m\n\u001b[1;32m     11\u001b[0m     \u001b[0mn_clusters\u001b[0m \u001b[0;34m=\u001b[0m \u001b[0mnp\u001b[0m\u001b[0;34m.\u001b[0m\u001b[0munique\u001b[0m\u001b[0;34m(\u001b[0m\u001b[0mlabels\u001b[0m\u001b[0;34m)\u001b[0m\u001b[0;34m.\u001b[0m\u001b[0msize\u001b[0m\u001b[0;34m\u001b[0m\u001b[0;34m\u001b[0m\u001b[0m\n\u001b[1;32m     12\u001b[0m     \u001b[0;32mfor\u001b[0m \u001b[0mi\u001b[0m \u001b[0;32min\u001b[0m \u001b[0mrange\u001b[0m\u001b[0;34m(\u001b[0m\u001b[0mn_clusters\u001b[0m\u001b[0;34m)\u001b[0m\u001b[0;34m:\u001b[0m\u001b[0;34m\u001b[0m\u001b[0;34m\u001b[0m\u001b[0m\n\u001b[0;32m---> 13\u001b[0;31m         h = plt.scatter(points[labels==i,0],\n\u001b[0m\u001b[1;32m     14\u001b[0m                         \u001b[0mpoints\u001b[0m\u001b[0;34m[\u001b[0m\u001b[0mlabels\u001b[0m\u001b[0;34m==\u001b[0m\u001b[0mi\u001b[0m\u001b[0;34m,\u001b[0m\u001b[0;36m1\u001b[0m\u001b[0;34m]\u001b[0m\u001b[0;34m,\u001b[0m\u001b[0;34m\u001b[0m\u001b[0;34m\u001b[0m\u001b[0m\n\u001b[1;32m     15\u001b[0m                         \u001b[0mc\u001b[0m\u001b[0;34m=\u001b[0m\u001b[0mcolors\u001b[0m\u001b[0;34m[\u001b[0m\u001b[0mi\u001b[0m\u001b[0;34m%\u001b[0m\u001b[0mcolors\u001b[0m\u001b[0;34m.\u001b[0m\u001b[0msize\u001b[0m\u001b[0;34m]\u001b[0m\u001b[0;34m,\u001b[0m\u001b[0;34m\u001b[0m\u001b[0;34m\u001b[0m\u001b[0m\n",
      "\u001b[0;31mIndexError\u001b[0m: boolean index did not match indexed array along dimension 0; dimension is 2710 but corresponding boolean dimension is 2726"
     ]
    }
   ],
   "source": [
    "# plot the transformed examples and the centers\n",
    "# use the cluster assignment to colour the examples\n",
    "clustering_scatterplot(points=XYcoordinates[:-k,:], \n",
    "                       labels=clustered_data_sklearn.labels_, \n",
    "                       centers=XYcoordinates[-k:,:], \n",
    "                       title='MDS')"
   ]
  },
  {
   "cell_type": "markdown",
   "metadata": {},
   "source": [
    "### Apply t-SNE to project both the data and the k-Means cluster centers to a 2D space"
   ]
  },
  {
   "cell_type": "code",
   "execution_count": null,
   "metadata": {},
   "outputs": [],
   "source": [
    "# project both th data and the k-Means cluster centers to a 2D space\n",
    "XYcoordinates = manifold.TSNE(n_components=2).fit_transform(numEncode_data_and_centers)\n",
    "print(\"transformation complete\")"
   ]
  },
  {
   "cell_type": "code",
   "execution_count": null,
   "metadata": {},
   "outputs": [],
   "source": [
    "# plot the transformed examples and the centers\n",
    "# use the cluster assignment to colour the examples\n",
    "# plot the transformed examples and the centers\n",
    "# use the cluster assignment to colour the examples\n",
    "clustering_scatterplot(points=XYcoordinates[:-k,:], \n",
    "                       labels=clustered_data_sklearn.labels_,\n",
    "                       centers=XYcoordinates[-k:,:], \n",
    "                       title='TSNE')"
   ]
  },
  {
   "cell_type": "markdown",
   "metadata": {},
   "source": [
    "## Clutster Analysis"
   ]
  },
  {
   "cell_type": "markdown",
   "metadata": {},
   "source": [
    "#### Add the cluster labels as an extra column in the original dataframe"
   ]
  },
  {
   "cell_type": "code",
   "execution_count": null,
   "metadata": {},
   "outputs": [],
   "source": [
    "df['cluster'] = pd.Series(clustered_data_sklearn.labels_, index=dfNumEncode.index)"
   ]
  },
  {
   "cell_type": "code",
   "execution_count": null,
   "metadata": {},
   "outputs": [],
   "source": [
    "df.head()"
   ]
  },
  {
   "cell_type": "code",
   "execution_count": null,
   "metadata": {},
   "outputs": [],
   "source": [
    "dfNumEncode.groupby('cluster').mean()"
   ]
  }
 ],
 "metadata": {
  "kernelspec": {
   "display_name": "Python 3",
   "language": "python",
   "name": "python3"
  },
  "language_info": {
   "codemirror_mode": {
    "name": "ipython",
    "version": 3
   },
   "file_extension": ".py",
   "mimetype": "text/x-python",
   "name": "python",
   "nbconvert_exporter": "python",
   "pygments_lexer": "ipython3",
   "version": "3.7.4"
  }
 },
 "nbformat": 4,
 "nbformat_minor": 1
}
